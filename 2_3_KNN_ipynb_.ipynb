{
  "nbformat": 4,
  "nbformat_minor": 0,
  "metadata": {
    "colab": {
      "provenance": []
    },
    "kernelspec": {
      "name": "python3",
      "display_name": "Python 3"
    },
    "language_info": {
      "name": "python"
    }
  },
  "cells": [
    {
      "cell_type": "markdown",
      "source": [
        "# Задача 2.3. KNN\n",
        "\n",
        "В этом задании Вам предлагается написать класс `KNN_classifier`, пригодный для решения задачи классификации (многоклассовой).\n",
        "\n",
        "Мы предлагаем Вам шаблон класса. В этом шаблоне заполните тела функций `.fit` и `.predict`\n",
        "\n",
        "В качестве функции близости используйте Евклидово расстояние между объектами (подробнее https://numpy.org/doc/stable/reference/generated/numpy.linalg.norm.html).\n",
        "\n",
        "Напоминание:\n",
        "\n",
        "* Функция `.fit(x, y)` производит обучение модели. В рамках этой функции необходимо реализовать подбор оптимальных параметров модели/сконфигурировать модель для дальнейшего использования на основе данной тренировочной выборки, где x - это матрица признакового описания выборки, а y - вектор ответов.\n",
        "\n",
        "* Функция `.predict(x)` осуществляет предсказание для каждого из объектов, чьи векторные описания представлены строками матрицы x. Выполняется строго после `.fit()`. Ради безопасности можно даже реализовать механизм отказа в виде выбрасывания специальной ошибки `UnfittedError` в случае попытки вызова функции `.predict()` до вызова функции `.fit()`.\n",
        "\n",
        "Замечание: не изменяйте названия класса и его методов. Это приведёт к ошибке при исполнении Вашего кода в процессе проверки задания. Тем не менее, Вы можете дописать свои собственные методы, если это необходимо.\n",
        "\n",
        "Шаблон класса:"
      ],
      "metadata": {
        "id": "giMUSayPBOYo"
      }
    },
    {
      "cell_type": "code",
      "source": [
        "import numpy as np\n",
        "\n",
        "\n",
        "class KNN_classifier:\n",
        "    def __init__(self, n_neighbors: int, **kwargs):\n",
        "        self.K = n_neighbors\n",
        "\n",
        "    def fit(self, x: np.array, y: np.array):\n",
        "        self.X_train = x\n",
        "        self.Y_train = y\n",
        "        pass\n",
        "\n",
        "    def predict(self, x: np.array):\n",
        "        predictions = []\n",
        "        for i in range(len(x)):\n",
        "          distances = []\n",
        "          for j in range(len(self.X_train)):\n",
        "            distances.append([(sum((self.X_train[j] - x[i])**2))**0.5, j])\n",
        "          distances = sorted(distances, key = lambda z: z[0])\n",
        "          C = {}\n",
        "          for dist, j in distances[:self.K]:\n",
        "            y = self.Y_train[j]\n",
        "            if y not in C:\n",
        "              C[y] = 0\n",
        "            C[y] += 1\n",
        "          predictions.append(max(C.items(), key = lambda x: x[1])[0])\n",
        "        predictions = np.array(predictions)\n",
        "        return predictions"
      ],
      "metadata": {
        "id": "lrYLUYPGBUeI"
      },
      "execution_count": null,
      "outputs": []
    },
    {
      "cell_type": "markdown",
      "source": [
        "## Примечания\n",
        "\n",
        "1. Вы можете проверить правильность выполнения задания посредством сравнения полученных результатов с функцией из соответствующего модуля `sklearn`.\n",
        "\n",
        "2. В рамках выполнения данного задания **запрещено** использовать функции из пакета `sklearn` и любого другого, кроме `numpy`. Код, использующий любые другие модули, не пройдёт тесты.\n",
        "\n",
        "3. **Подсказка:** если Вы испытываете сложности с реализацией этого задания, начните выполнять его с написания функции `.predict`. В процессе написания этой функции Вы поймёте, что конкретно Вам требуется получить от обучающей выборки, какую информацию и в каком видед извлечь из неё. Затем реализуйте это в функции `.fit`"
      ],
      "metadata": {
        "id": "z3o6dV1XBX6d"
      }
    },
    {
      "cell_type": "markdown",
      "source": [
        "## Пример входных и выходных данных"
      ],
      "metadata": {
        "id": "0Xo10b5J-xTX"
      }
    },
    {
      "cell_type": "code",
      "source": [
        "X = np.array([[ 0.56510722,  0.68599596, -0.92388505, -0.29546048, -0.12437532],\n",
        "       [-0.79617537,  0.98406791,  1.19542652, -0.05626863, -0.69868076],\n",
        "       [ 0.9629688 , -1.00423925, -0.53842833, -0.23744358,  0.83226685],\n",
        "       [ 0.24671269, -0.41624448,  0.81679337,  1.59227446,  0.16192583],\n",
        "       [-0.36972363,  0.17425997,  1.33668078,  1.16687907,  0.31709134],\n",
        "       [-1.30482844, -0.05354323, -0.88862186, -1.121785  , -0.78442809],\n",
        "       [-0.53975018,  0.90074877, -1.09317408,  1.52989481, -0.43375015],\n",
        "       [-0.64709803, -0.09775791,  1.3506503 , -1.46957788,  1.63325543],\n",
        "       [-0.73858464, -0.60678229,  0.31420272, -0.43100129, -0.37665876],\n",
        "       [-0.29208809, -0.68795722,  0.06586655,  0.9583851 ,  1.70640775]])"
      ],
      "metadata": {
        "id": "XJ2zlkPO_lKL"
      },
      "execution_count": null,
      "outputs": []
    },
    {
      "cell_type": "code",
      "source": [
        "y = np.array([1, 0, 0, 1, 0, 1, 0, 1, 0, 1])"
      ],
      "metadata": {
        "id": "W5Dws6L2_m8w"
      },
      "execution_count": null,
      "outputs": []
    },
    {
      "cell_type": "code",
      "source": [
        "knn = KNN_classifier(n_neighbors=3)"
      ],
      "metadata": {
        "id": "icADSPko_oEh"
      },
      "execution_count": null,
      "outputs": []
    },
    {
      "cell_type": "code",
      "source": [
        "knn.fit(X, y)"
      ],
      "metadata": {
        "id": "XSNCFpho_tqM"
      },
      "execution_count": null,
      "outputs": []
    },
    {
      "cell_type": "code",
      "source": [
        "x_test = np.array([[-0.12489725,  0.65791923, -0.73112495,  1.42660225,  1.64728976],\n",
        "       [ 0.01913388, -1.11351208, -0.63244098, -0.98121107,  0.38060892],\n",
        "       [-0.92074931,  1.39812225,  0.39692147,  0.7717827 ,  0.44604002]])\n"
      ],
      "metadata": {
        "id": "u8cnf2ir_4n1"
      },
      "execution_count": null,
      "outputs": []
    },
    {
      "cell_type": "code",
      "source": [
        "knn.predict(x_test)"
      ],
      "metadata": {
        "colab": {
          "base_uri": "https://localhost:8080/"
        },
        "id": "LaSaCBs9_xYM",
        "outputId": "21e00e42-fe0e-48d3-c033-f337da54df58"
      },
      "execution_count": null,
      "outputs": [
        {
          "output_type": "execute_result",
          "data": {
            "text/plain": [
              "array([1, 0, 0])"
            ]
          },
          "metadata": {},
          "execution_count": 171
        }
      ]
    },
    {
      "cell_type": "code",
      "source": [
        "C = {1:3, 2:4, 5:6, 7:9}\n",
        "print(max(C.items(), key = lambda x: x[1]))"
      ],
      "metadata": {
        "id": "dXTkSHu3__rY",
        "outputId": "1941583d-251a-452e-8474-22040951a496",
        "colab": {
          "base_uri": "https://localhost:8080/"
        }
      },
      "execution_count": null,
      "outputs": [
        {
          "output_type": "stream",
          "name": "stdout",
          "text": [
            "(7, 9)\n"
          ]
        }
      ]
    },
    {
      "cell_type": "code",
      "source": [
        "X_train = np.array([1, 2, 3])\n",
        "x = np.array([3, 4, 5])\n",
        "a = np.sqrt((X_train[1] - x[0])**2)\n",
        "print(a)"
      ],
      "metadata": {
        "colab": {
          "base_uri": "https://localhost:8080/"
        },
        "id": "eAAAVJYijcZt",
        "outputId": "8af40ec2-d613-4db9-cf1c-6fa19a99f575"
      },
      "execution_count": null,
      "outputs": [
        {
          "output_type": "stream",
          "name": "stdout",
          "text": [
            "1.0\n"
          ]
        }
      ]
    },
    {
      "cell_type": "code",
      "source": [
        "a"
      ],
      "metadata": {
        "colab": {
          "base_uri": "https://localhost:8080/"
        },
        "id": "1xhD60fbjyWy",
        "outputId": "2226dd5a-97d5-4cf3-c88b-5dc4d185890b"
      },
      "execution_count": null,
      "outputs": [
        {
          "output_type": "execute_result",
          "data": {
            "text/plain": [
              "1.0"
            ]
          },
          "metadata": {},
          "execution_count": 44
        }
      ]
    },
    {
      "cell_type": "code",
      "source": [
        "a = np.array([(1, 1), (1, 1)])\n",
        "a = sorted(a, key = lambda x: x[0])\n",
        "print(a)"
      ],
      "metadata": {
        "colab": {
          "base_uri": "https://localhost:8080/"
        },
        "id": "mewIVAc0o7NL",
        "outputId": "723e1676-5151-4de7-9720-8ad6a96badb9"
      },
      "execution_count": null,
      "outputs": [
        {
          "output_type": "stream",
          "name": "stdout",
          "text": [
            "[array([1, 1]), array([1, 1])]\n"
          ]
        }
      ]
    },
    {
      "cell_type": "code",
      "source": [
        "a"
      ],
      "metadata": {
        "colab": {
          "base_uri": "https://localhost:8080/"
        },
        "id": "rJUXI8Fxx5K7",
        "outputId": "c242f443-f78b-4e0b-b7fd-4f61621232d9"
      },
      "execution_count": null,
      "outputs": [
        {
          "output_type": "execute_result",
          "data": {
            "text/plain": [
              "[array([1, 1]), array([1, 1])]"
            ]
          },
          "metadata": {},
          "execution_count": 135
        }
      ]
    }
  ]
}