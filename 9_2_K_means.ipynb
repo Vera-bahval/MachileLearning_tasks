{
  "nbformat": 4,
  "nbformat_minor": 0,
  "metadata": {
    "colab": {
      "provenance": []
    },
    "kernelspec": {
      "name": "python3",
      "display_name": "Python 3"
    },
    "language_info": {
      "name": "python"
    }
  },
  "cells": [
    {
      "cell_type": "code",
      "execution_count": null,
      "metadata": {
        "id": "epvM_WkMW5uF"
      },
      "outputs": [],
      "source": [
        "import numpy as np\n",
        "from numpy import linalg as LA\n",
        "from collections import defaultdict\n",
        "\n",
        "class KMeans(object):\n",
        "  def __init__(self, K, init):\n",
        "    self.K = K\n",
        "    self.init = np.array(init)\n",
        "\n",
        "  def get_distance(self, point_1, point_2):\n",
        "    #return ((point_1[0] - point_2[0])**2 + (point_1[1] - point_2[1])**2)**0.5\n",
        "    vector1 = LA.norm(point_1)\n",
        "    vector2 = LA.norm(point_2)\n",
        "    return abs(vector1 - vector2)\n",
        "\n",
        "  def step(self, X, centroids):\n",
        "    clusters_dict = {}\n",
        "    clusters = []\n",
        "    for i in range(len(X)):\n",
        "      distances = [self.get_distance(X[i], centroids[k]) for k in centroids.keys()]\n",
        "      cluster = np.argmin(distances)\n",
        "      clusters.append(cluster)\n",
        "      if cluster not in clusters_dict:\n",
        "        clusters_dict[cluster] = []\n",
        "      clusters_dict[cluster].append(X[i])\n",
        "    return clusters, clusters_dict\n",
        "\n",
        "  def update_centroids(self, X, clusters_dict):\n",
        "      new_centroids = {}\n",
        "      for k in clusters_dict.keys():\n",
        "        new_centroids[k] = [np.mean([p[0] for p in clusters_dict[k]]), np.mean([p[1] for p in clusters_dict[k]])]\n",
        "      return new_centroids\n",
        "\n",
        "  def should_stop(self, old_centroids, new_centroids, th = 0.001):\n",
        "      max_dif = 0\n",
        "      for key in old_centroids:\n",
        "        if key in new_centroids:\n",
        "          dif = self.get_distance(old_centroids[key], new_centroids[key])\n",
        "          max_dif = max(dif, max_dif)\n",
        "      return max_dif <= th\n",
        "\n",
        "  def fit(self, X):\n",
        "    centroids = {}\n",
        "    for i in range(len(self.init)):\n",
        "      centroids[i] = self.init[i]\n",
        "    while True:\n",
        "      clusters, clusters_dict = self.step(X, centroids)\n",
        "      old_centroids = {}\n",
        "      for key in centroids:\n",
        "        old_centroids[key] = centroids[key]\n",
        "      centroids = self.update_centroids(X, clusters_dict)\n",
        "      if self.should_stop(old_centroids, centroids):\n",
        "        self.centroids = centroids\n",
        "        break\n",
        "    pass\n",
        "\n",
        "  def predict(self, X):\n",
        "    centroids = self.centroids\n",
        "    clusters, clusters_dict = self.step(X, centroids)\n",
        "    return np.array(clusters)\n",
        "    pass"
      ]
    },
    {
      "cell_type": "markdown",
      "source": [],
      "metadata": {
        "id": "itrdqT-VXHIA"
      }
    }
  ]
}