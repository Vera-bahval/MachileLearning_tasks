{
  "nbformat": 4,
  "nbformat_minor": 0,
  "metadata": {
    "colab": {
      "provenance": []
    },
    "kernelspec": {
      "name": "python3",
      "display_name": "Python 3"
    },
    "language_info": {
      "name": "python"
    }
  },
  "cells": [
    {
      "cell_type": "markdown",
      "source": [
        "# 6.1. Разнообразие\n",
        "\n",
        "Как известно, для формирования случайного леса необходимо разнообразие каждого из решающих деревьев в его составе. Добиться такого разнообразия можно как при помощи варьирования параметров деревьев, так и при помощи варьирования обучающих выборок. Это обычно делается при помощи комбинирования методов случайных подпространств и беггинга. Метод случайных подпространств состоит в случайном выборе подмножества признаков. Бэггинг - это техника отбора подмножества объектов из исходной выборки, которая состоит в последовательном случайном выборе объектов выборки [**с возвращением**](https://ru.wikipedia.org/wiki/Размещение#Размещение_с_повторениями).\n",
        "\n",
        "Для ясности приведём следующий пример:\n",
        "\n",
        "Пусть  наша выборка - это черный мешок с пронумерованными шарами. Каждый шар символизирует некоторый объект нашей выборки с соответствующим номером. Процедура бэггинга предлагает нам последовательно хорошо перемешав шары в мешке вытаскивать их один за другим не глядя, записывать их номера на лист бумаги, а затем возвращать их назад в мешок, повторяя эту операцию столько раз, сколько объектов содержится в нашей выборке. Затем мы вынем из мешка все те шары, номер которых хотя бы раз возник в нашем списке. Понятно, что скорее всего среди этих номеров будут повторяющиеся, то есть какие-то шары мы вытянем несколько раз, а какие-то - вообще ни разу. Именно поэтому наша подвыборка и получится случайной. Статистически обоснована оценка того, какой процент шаров из исходной выборки в среднем попадёт в итоговую подвыборку. Эта оценка приблизительно равна $62\\%$.\n",
        "\n",
        "Ваша задача - написать реализацию трёх функций и объединить их в класс `sample`, возвращающий по выборке некоторую случайную подвыборку, пригодную для обучения  одного из деревьев в ансамбле случайного леса.\n",
        "\n",
        "**Замечание:** обратите внимание, что объекты в итоговой подвыборке не должны дублироваться. Мы предлагаем Вам ознакомиться с функциями [np.random.choice](https://numpy.org/doc/stable/reference/random/generated/numpy.random.choice.html) и [np.unique](https://numpy.org/doc/stable/reference/generated/numpy.unique.html), они могут оказаться полезны при выполнении этого задания.\n",
        "\n",
        "Подробнее об этом методе можно прочитать в нашей [лекции](https://colab.research.google.com/drive/1LrqEyfmOKJQdvgxZ56qPcJ_YjJFnP_Ka#scrollTo=kYjii_stqfJo)\n"
      ],
      "metadata": {
        "id": "i3pPZpuKiGnI"
      }
    },
    {
      "cell_type": "code",
      "source": [
        "import numpy as np\n",
        "\n",
        "class sample(object):\n",
        "  def __init__(self, X, n_subspace):\n",
        "    self.idx_subspace = self.random_subspace(X, n_subspace)\n",
        "\n",
        "  def __call__(self, X, y):\n",
        "    idx_obj = self.bootstrap_sample(X)\n",
        "    X_sampled, y_sampled = self.get_subsample(X, y, self.idx_subspace, idx_obj)\n",
        "    return X_sampled, y_sampled\n",
        "\n",
        "  @staticmethod\n",
        "  def bootstrap_sample(X, random_state=42):\n",
        "    \"\"\"\n",
        "    Заполните тело этой функции таким образом, чтобы она возвращала массив индексов выбранных при помощи бэггинга индексов.\n",
        "    Пользуйтесь только инструментами, реализованными в numpy.random, выставляя везде, где это необходимо, random_state=424\n",
        "    \"\"\"\n",
        "    return np.unique(np.random.choice(len(X), size = len(X), replace = True))\n",
        "\n",
        "  @staticmethod\n",
        "  def random_subspace(X, n_subspace, random_state=42):\n",
        "    \"\"\"\n",
        "    Заполните тело этой функции таким образом, чтобы она возвращала массив индексов выбранных при помощи метода случайных подпространств признаков\n",
        "    Количество этих признаков передается при помощи аргумента n_subspace\n",
        "    Пользуйтесь только инструментами, реализованными в numpy.random, выставляя везде, где это необходимо, random_state=42\n",
        "    \"\"\"\n",
        "    return np.random.choice(n_subspace, size = n_subspace, replace = True)\n",
        "\n",
        "  @staticmethod\n",
        "  def get_subsample(X, y, idx_subspace, idx_obj):\n",
        "    \"\"\"\n",
        "    Заполните тело этой функции таким образом, чтобы она возвращала подвыборку x_sampled, y_sampled\n",
        "    по значениям индексов признаков(idx_subspace) и объектов(idx_obj) , которые должны в неё попасть\n",
        "    \"\"\"\n",
        "    X_sampled, y_sampled = np.array([]), np.array([])\n",
        "    for id_obj in idx_obj:\n",
        "        y_sampled = np.append(y_sampled, y[id_obj])\n",
        "    for id_obj in idx_obj:\n",
        "        for id_subspace in idx_subspace:\n",
        "          X_sampled = np.append(X_sampled, X[id_obj][id_subspace])\n",
        "    X_sampled = X_sampled.reshape((len(idx_obj), len(idx_subspace)))\n",
        "    return X_sampled, y_sampled\n"
      ],
      "metadata": {
        "id": "juW_Uoo_ic0z"
      },
      "execution_count": null,
      "outputs": []
    },
    {
      "cell_type": "markdown",
      "source": [
        "# Пример формата входных и выходных данных"
      ],
      "metadata": {
        "id": "9kUI0HufQa7b"
      }
    },
    {
      "cell_type": "code",
      "source": [
        "X = np.array([[1,2,3], [4,5,6], [7,8,9]])\n",
        "Y = np.array([1, 2, 3])\n",
        "s = sample(X, 2)\n",
        "\n",
        "bootstrap_indices = s.bootstrap_sample(X)\n",
        "X_sampled, y_sampled = s.get_subsample(X, Y, s.idx_subspace, bootstrap_indices)"
      ],
      "metadata": {
        "id": "t5ObaQ8MQl-e"
      },
      "execution_count": null,
      "outputs": []
    },
    {
      "cell_type": "code",
      "source": [
        "# Строки, выбранные из исходного массива X\n",
        "bootstrap_indices"
      ],
      "metadata": {
        "colab": {
          "base_uri": "https://localhost:8080/"
        },
        "id": "kx_-y3ATRl1f",
        "outputId": "1b1f16a1-54e1-4abc-ba0b-c3e26cf9908e"
      },
      "execution_count": null,
      "outputs": [
        {
          "output_type": "execute_result",
          "data": {
            "text/plain": [
              "array([0, 1])"
            ]
          },
          "metadata": {},
          "execution_count": 39
        }
      ]
    },
    {
      "cell_type": "code",
      "source": [
        "# Столбцы, выбранные из исходного массива X\n",
        "s.idx_subspace"
      ],
      "metadata": {
        "colab": {
          "base_uri": "https://localhost:8080/"
        },
        "id": "tSF8hy3FRmyP",
        "outputId": "22feec05-3a07-4fd9-8677-9861a291a2d5"
      },
      "execution_count": null,
      "outputs": [
        {
          "output_type": "execute_result",
          "data": {
            "text/plain": [
              "array([1, 1])"
            ]
          },
          "metadata": {},
          "execution_count": 40
        }
      ]
    },
    {
      "cell_type": "code",
      "source": [
        "# Матрица на выходе\n",
        "X_sampled"
      ],
      "metadata": {
        "colab": {
          "base_uri": "https://localhost:8080/"
        },
        "id": "OiDNFq6zRg8G",
        "outputId": "19c41d11-df93-4876-c8aa-2f9ab929ecfd"
      },
      "execution_count": null,
      "outputs": [
        {
          "output_type": "execute_result",
          "data": {
            "text/plain": [
              "array([[2., 2.],\n",
              "       [5., 5.]])"
            ]
          },
          "metadata": {},
          "execution_count": 41
        }
      ]
    },
    {
      "cell_type": "code",
      "source": [
        "# Вектор ответов на выходе\n",
        "y_sampled"
      ],
      "metadata": {
        "colab": {
          "base_uri": "https://localhost:8080/"
        },
        "id": "JEaXXOO9RiVZ",
        "outputId": "1acdcbec-1364-4c56-e638-28f13118067e"
      },
      "execution_count": null,
      "outputs": [
        {
          "output_type": "execute_result",
          "data": {
            "text/plain": [
              "array([1., 2.])"
            ]
          },
          "metadata": {},
          "execution_count": 42
        }
      ]
    },
    {
      "cell_type": "markdown",
      "source": [
        "## Примечания\n",
        "\n",
        "1. Не забывайте, что в качестве ответа на задание нужно отправлять именно реализованный класс, соответствующиий [шаблону выше](https://colab.research.google.com/drive/1LoXr0Rwmcivgla2gAzOKuLgh2ISlokvv#scrollTo=juW_Uoo_ic0z&line=5&uniqifier=1).\n",
        "\n",
        "2. Подумайте, что должны возвращать методы bootstrap_sample и random_subspace (одна из функций возвращает индексы строк, другая - индексы столбцов).\n",
        "\n",
        "3. Пример из блокнота не обязан совпадать с входными данными из блокнота. Он дан лишь для проверки алгоритмов в указанном формате.\n",
        "\n",
        "4. Подумайте, в каких реализуемых методах нужен numpy.unique(), а в каких - нет.\n",
        "\n",
        "5. В реализуемых методах запрещается использовать вывод любой информации на экран (в частности, недопустимо использование print())."
      ],
      "metadata": {
        "id": "3fEZJ19GIl1W"
      }
    }
  ]
}