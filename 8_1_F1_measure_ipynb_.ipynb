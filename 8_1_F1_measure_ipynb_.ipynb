{
  "nbformat": 4,
  "nbformat_minor": 0,
  "metadata": {
    "colab": {
      "provenance": []
    },
    "kernelspec": {
      "name": "python3",
      "display_name": "Python 3"
    },
    "language_info": {
      "name": "python"
    }
  },
  "cells": [
    {
      "cell_type": "markdown",
      "source": [
        "# 8.1. F1-measure\n",
        "\n",
        "На [лекции](https://colab.research.google.com/drive/12xpYdqi1S4y68FYHym2rZ3wzHSm8cSLm?usp=sharing) мы подробно обсудили, что доля правильных ответов - не самая лучшая метрика оценки качества классификации. Довольно часто доля правильных ответов даёт смещенную оценку качества и способна ввести в заблуждение. По этой причине мы пользуемся метриками качества, которые называются *точностью* и *полнотой*, а также их комбинацией - *F1-мерой*. Ваша задача - реализовать функции `precision`, `recall` и `f1`. На вход всех этих функий подаются два вектора: `y_true`: вектор правильных ответов и `y_pred`: вектор предсказаний.\n",
        "\n",
        "В рамках выполнения этого задания можно использовать только модуль `numpy`."
      ],
      "metadata": {
        "id": "qnxzhw-2a0ie"
      }
    },
    {
      "cell_type": "code",
      "source": [
        "import numpy\n",
        "\n",
        "\n",
        "def precision(y_true, y_pred):\n",
        "  \"\"\"\n",
        "    TODO: Заполните тело функции вычисления точности предсказания\n",
        "  \"\"\"\n",
        "\n",
        "  TP = (y_pred * y_true).sum()\n",
        "  FP = (y_pred * (1 - y_true)).sum()\n",
        "  return TP/(TP + FP)\n",
        "\n",
        "def recall(y_true, y_pred):\n",
        "  \"\"\"\n",
        "    TODO: Заполните тело функции вычисления полноты предсказания\n",
        "  \"\"\"\n",
        "  TP = (y_pred * y_true).sum()\n",
        "  FN = ((1 - y_pred) * y_true).sum()\n",
        "  return TP/(TP + FN)\n",
        "\n",
        "def f1(y_true, y_pred):\n",
        "  \"\"\"\n",
        "    TODO: Заполните тело функции вычисления f1-меры предсказания\n",
        "  \"\"\"\n",
        "  pr = precision(y_true, y_pred)\n",
        "  rec = recall(y_true, y_pred)\n",
        "  return 2*pr*rec/(pr+rec)"
      ],
      "metadata": {
        "id": "DpNEqX0_cL9g"
      },
      "execution_count": null,
      "outputs": []
    },
    {
      "cell_type": "code",
      "source": [
        "import numpy as np\n",
        "from random import shuffle\n",
        "\n",
        "x_shape = 3\n",
        "health_X = np.random.randn(950, x_shape)\n",
        "f = [0] * 850 + [1] * 100\n",
        "shuffle(f)\n",
        "health_X[:, 0] = f\n",
        "\n",
        "ill_x = np.random.randn(50, x_shape)\n",
        "f = [0] * 10 + [1] * 40\n",
        "shuffle(f)\n",
        "ill_x[:, 0] = f\n",
        "\n",
        "X = np.concatenate((health_X, ill_x))\n",
        "Y = np.concatenate((np.zeros(950), np.ones(50)))"
      ],
      "metadata": {
        "id": "0BhXxK8N2adZ"
      },
      "execution_count": null,
      "outputs": []
    },
    {
      "cell_type": "code",
      "source": [
        "classifier_1 = lambda x: (x[:,0] == 1).astype(int) # Сравнение с признаком самочувствия\n",
        "classifier_2 = lambda x: np.zeros_like(x[:,0]) # Константное предсказание"
      ],
      "metadata": {
        "id": "l4l6A8Ej2d2c"
      },
      "execution_count": null,
      "outputs": []
    },
    {
      "cell_type": "code",
      "source": [
        "y_1 = classifier_1(X) # Предсказание первого классификатора\n",
        "y_2 = classifier_2(X) # Предсказание второго классификатора"
      ],
      "metadata": {
        "id": "Hwhm1Ajo2ebF"
      },
      "execution_count": null,
      "outputs": []
    },
    {
      "cell_type": "code",
      "source": [
        "from sklearn.metrics import precision_score, recall_score, f1_score\n",
        "\n",
        "pr_1 = precision(Y, y_1)\n",
        "print(pr_1)\n",
        "print(precision_score(Y, y_1))"
      ],
      "metadata": {
        "colab": {
          "base_uri": "https://localhost:8080/"
        },
        "id": "JOTQo4jI2xSc",
        "outputId": "fcda58e1-6c9f-4735-97db-f6c9179895db"
      },
      "execution_count": null,
      "outputs": [
        {
          "output_type": "stream",
          "name": "stdout",
          "text": [
            "0.2857142857142857\n",
            "0.2857142857142857\n"
          ]
        }
      ]
    },
    {
      "cell_type": "code",
      "source": [
        "f_1 = f1(Y, y_1)\n",
        "print(f_1)\n",
        "print(f1_score(Y, y_1))"
      ],
      "metadata": {
        "colab": {
          "base_uri": "https://localhost:8080/"
        },
        "id": "PNhf64IK3nWl",
        "outputId": "977db54a-c049-466f-b5ee-6587a59c17b3"
      },
      "execution_count": null,
      "outputs": [
        {
          "output_type": "stream",
          "name": "stdout",
          "text": [
            "0.4210526315789473\n",
            "0.4210526315789473\n"
          ]
        }
      ]
    },
    {
      "cell_type": "code",
      "source": [
        "rec_1 = recall(Y, y_1)\n",
        "print(rec_1)\n",
        "print(recall_score(Y, y_1))"
      ],
      "metadata": {
        "colab": {
          "base_uri": "https://localhost:8080/"
        },
        "id": "SZKBw71f3zcf",
        "outputId": "e248a762-0fac-48a2-f5ec-d9dead02ebc7"
      },
      "execution_count": null,
      "outputs": [
        {
          "output_type": "stream",
          "name": "stdout",
          "text": [
            "0.8\n",
            "0.8\n"
          ]
        }
      ]
    },
    {
      "cell_type": "markdown",
      "source": [
        "## Примечания\n",
        "\n",
        "1. Проверить себя Вы можете, сравнив свои ответы с функциями `sklearn.metrics.precision_score`, `sklearn.metrics.recall_score` и `sklearn.metrics.f1_score`.\n",
        "\n",
        "2. В реализуемых функциях запрещается использовать вывод любой информации на экран (в частности, недопустимо использование print()).\n",
        "\n",
        "3. Для улучшения качества кода мы не рекомендуем заново реализовывать вычисление precision и recall внутри функции f1. Достаточно просто внутри функции f1 вызвать уже реализованные вами ранее функции self.precision() и self.recall().\n",
        "\n",
        "4. Мы считаем, что в качестве меток классов используется 0 или 1 (случай меток -1 и 1 можно не рассматривать, но для более корректного решения рекомендуем также учесть и эту ситуацию).\n",
        "\n",
        "5. Реализуемые функции не должны ничего выводить на экран - они должны возвращать значения соответствующих метрик."
      ],
      "metadata": {
        "id": "dYFHfq7iMXIu"
      }
    },
    {
      "cell_type": "code",
      "source": [],
      "metadata": {
        "id": "ISa-XPO74jdS"
      },
      "execution_count": null,
      "outputs": []
    }
  ]
}