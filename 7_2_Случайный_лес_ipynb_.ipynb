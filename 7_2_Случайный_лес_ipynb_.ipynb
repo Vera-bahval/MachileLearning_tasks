{
  "nbformat": 4,
  "nbformat_minor": 0,
  "metadata": {
    "colab": {
      "provenance": []
    },
    "kernelspec": {
      "name": "python3",
      "display_name": "Python 3"
    },
    "language_info": {
      "name": "python"
    }
  },
  "cells": [
    {
      "cell_type": "markdown",
      "source": [
        "# 7.2. Случайный лес\n",
        "\n",
        "Ваша задача - написать класс `random_forest` для решения задачи классификации на основе датасета Ирисов Фишера (`sklearn.datasets.load_iris`), принимающий на вход конструктора аргументы `n_estimators`, `max_depth`, `subspaces_dim` и `random_state`. описание этих аргументов приведено ниже. У этого класса должны быть определены методы `.fit()` и `.predict()`, а также поле `._estimators`, в котором должен храниться список алгоритмов, используемых в ансамбле.\n",
        "\n",
        "- n_estimators - число деревьев в ансамбле\n",
        "- max_depth - максимальная глубина каждого дерева в ансамбле\n",
        "- subspaces_dim - размерность случайного подпространства для каждого дерева\n",
        "\n",
        "Для создания обучающей подвыборки для каждого из базовых классификаторов, Вы можете воспользоваться классом `sample`, который Вы реализовали в прошлом задании. В случае его использования, не забудьте включить его описание в файл с Вашим решением текущего задания. Мы также предлагаем вам организовать выбор подпространств для каждого дерева посредством заполнения списка `subspace_idx`, в котором будут логироваться выбранные для каждого базового классификатора подпространства.\n",
        "\n",
        "Замечание: в рамках выполнения данного задания запрещено использовать класс `sklearn.ensemble.RandomForestClassifier`. Такой код не пройдёт проверку.\n",
        "\n",
        "Подберите также гиперпараметры, на которых ваш алгоритм получает наилучшее качество (с точки зрения метрики accuracy, доли правильных ответов) на тестовой выборке с параметром `test_size`=0.3, задайте их в виде глобальных переменных N_ESTIMATORS, MAX_DEPTH, SUBSPACE_DIM.\n",
        "\n",
        "Шаблон класса:"
      ],
      "metadata": {
        "id": "upU8iWtojlkk"
      }
    },
    {
      "cell_type": "code",
      "source": [
        "X = np.array([[1,2,3], [4,5,6], [7,8,9]])\n",
        "Y = np.array([1, 2, 3])\n",
        "s = sample11(X, 2)\n",
        "\n",
        "bootstrap_indices = s.bootstrap_sample(X)\n",
        "X_sampled, y_sampled = s.get_subsample(X, Y, s.idx_subspace, bootstrap_indices)"
      ],
      "metadata": {
        "colab": {
          "base_uri": "https://localhost:8080/"
        },
        "id": "SO5-iC2grN_t",
        "outputId": "a775e24d-c159-4f95-a226-31940f142047"
      },
      "execution_count": null,
      "outputs": [
        {
          "output_type": "stream",
          "name": "stdout",
          "text": [
            "3\n",
            "2\n"
          ]
        }
      ]
    },
    {
      "cell_type": "code",
      "source": [
        "# Строки, выбранные из исходного массива X\n",
        "bootstrap_indices"
      ],
      "metadata": {
        "colab": {
          "base_uri": "https://localhost:8080/"
        },
        "id": "9drUO__Asuni",
        "outputId": "23cae080-42ac-457e-fa7b-30a8e5ca6003"
      },
      "execution_count": null,
      "outputs": [
        {
          "output_type": "execute_result",
          "data": {
            "text/plain": [
              "array([0, 1, 2])"
            ]
          },
          "metadata": {},
          "execution_count": 163
        }
      ]
    },
    {
      "cell_type": "code",
      "source": [
        "# Столбцы, выбранные из исходного массива X\n",
        "s.idx_subspace"
      ],
      "metadata": {
        "colab": {
          "base_uri": "https://localhost:8080/"
        },
        "id": "gl39H5WYswgE",
        "outputId": "bc455a87-29c7-41d0-b62b-b98eaabdc872"
      },
      "execution_count": null,
      "outputs": [
        {
          "output_type": "execute_result",
          "data": {
            "text/plain": [
              "array([0, 2])"
            ]
          },
          "metadata": {},
          "execution_count": 164
        }
      ]
    },
    {
      "cell_type": "code",
      "source": [
        "# Матрица на выходе\n",
        "X_sampled"
      ],
      "metadata": {
        "colab": {
          "base_uri": "https://localhost:8080/"
        },
        "id": "ivjLKcBKsyGT",
        "outputId": "8b8a92c7-3ca3-4dba-908c-c71d0117a850"
      },
      "execution_count": null,
      "outputs": [
        {
          "output_type": "execute_result",
          "data": {
            "text/plain": [
              "array([[1., 3.],\n",
              "       [4., 6.],\n",
              "       [7., 9.]])"
            ]
          },
          "metadata": {},
          "execution_count": 165
        }
      ]
    },
    {
      "cell_type": "code",
      "source": [
        "# Вектор ответов на выходе\n",
        "y_sampled"
      ],
      "metadata": {
        "colab": {
          "base_uri": "https://localhost:8080/"
        },
        "id": "UGniftvcs0vE",
        "outputId": "1a894846-8e59-4b03-d15f-3346f97c681d"
      },
      "execution_count": null,
      "outputs": [
        {
          "output_type": "execute_result",
          "data": {
            "text/plain": [
              "array([1., 2., 3.])"
            ]
          },
          "metadata": {},
          "execution_count": 166
        }
      ]
    },
    {
      "cell_type": "code",
      "source": [
        "class sample11(object):\n",
        "    def __init__(self, X, n_subspace):\n",
        "        self.idx_subspace = self.random_subspace(X, n_subspace)\n",
        "\n",
        "    def __call__(self, X, y):\n",
        "        idx_obj = self.bootstrap_sample(X)\n",
        "        X_sampled, y_sampled = self.get_subsample(X, y, self.idx_subspace, idx_obj)\n",
        "        return X_sampled, y_sampled\n",
        "\n",
        "    @staticmethod\n",
        "    def bootstrap_sample(X, random_state=42):\n",
        "        \"\"\"\n",
        "        Заполните тело этой функции таким образом, чтобы она возвращала массив индексов выбранных при помощи бэггинга индексов.\n",
        "        Пользуйтесь только инструментами, реализованными в numpy.random, выставляя везде, где это необходимо, random_state=424\n",
        "        \"\"\"\n",
        "        return np.unique(np.random.choice(len(X), len(X), replace = True))\n",
        "\n",
        "    @staticmethod\n",
        "    def random_subspace(X, n_subspace, random_state=42):\n",
        "        \"\"\"\n",
        "        Заполните тело этой функции таким образом, чтобы она возвращала массив индексов выбранных при помощи метода случайных подпространств признаков\n",
        "        Количество этих признаков передается при помощи аргумента n_subspace\n",
        "        Пользуйтесь только инструментами, реализованными в numpy.random, выставляя везде, где это необходимо, random_state=42\n",
        "        \"\"\"\n",
        "        print(len(X[0]))\n",
        "        print(n_subspace)\n",
        "        return np.random.choice(len(X[0]), n_subspace, replace = False)\n",
        "\n",
        "    @staticmethod\n",
        "    def get_subsample(X, y, idx_subspace, idx_obj):\n",
        "        \"\"\"\n",
        "        Заполните тело этой функции таким образом, чтобы она возвращала подвыборку x_sampled, y_sampled\n",
        "        по значениям индексов признаков(idx_subspace) и объектов(idx_obj) , которые должны в неё попасть\n",
        "        \"\"\"\n",
        "        X_sampled, y_sampled = np.array([]), np.array([])\n",
        "        for id_obj in idx_obj:\n",
        "            y_sampled = np.append(y_sampled, y[id_obj])\n",
        "        for id_obj in idx_obj:\n",
        "            for id_subspace in idx_subspace:\n",
        "                X_sampled = np.append(X_sampled, X[id_obj][id_subspace])\n",
        "        X_sampled = X_sampled.reshape((len(idx_obj), len(idx_subspace)))\n",
        "        return X_sampled, y_sampled"
      ],
      "metadata": {
        "id": "S-9MgNs1qPun"
      },
      "execution_count": null,
      "outputs": []
    },
    {
      "cell_type": "code",
      "source": [
        "\n",
        "import numpy as np\n",
        "np.random.seed(42)\n",
        "\n",
        "from sklearn.tree import DecisionTreeClassifier\n",
        "\n",
        "N_ESTIMATORS = 25\n",
        "MAX_DEPTH = 15\n",
        "SUBSPACE_DIM = 1\n",
        "\n",
        "\n",
        "class sample2(object):\n",
        "  def __init__(self, X, n_subspace):\n",
        "    self.idx_subspace = self.random_subspace(X, n_subspace)\n",
        "\n",
        "  def __call__(self, X, y):\n",
        "    idx_obj = self.bootstrap_sample(X)\n",
        "    X_sampled, y_sampled = self.get_subsample(X, y, self.idx_subspace, idx_obj)\n",
        "    return X_sampled, y_sampled\n",
        "\n",
        "  @staticmethod\n",
        "  def bootstrap_sample(X, random_state=42):\n",
        "    n = len(X)\n",
        "    return np.unique(np.random.choice(n, n, replace=True))\n",
        "\n",
        "  @staticmethod\n",
        "  def random_subspace(X, n_subspace, random_state=42):\n",
        "    return np.unique(np.random.choice(len(X[0]), n_subspace, replace=False))\n",
        "\n",
        "  @staticmethod\n",
        "  def get_subsample(X, y, idx_subspace, idx_obj):\n",
        "    X_sampled = []\n",
        "    for i in idx_obj:\n",
        "        X_sampled.append(np.array([X[i][j] for j in idx_subspace]))\n",
        "\n",
        "    y_sampled = [y[i] for i in idx_obj]\n",
        "    return np.array(X_sampled), y_sampled\n",
        "\n",
        "class random_forest(object):\n",
        "  def __init__(self, n_estimators: int, max_depth: int, subspaces_dim: int, random_state: int):\n",
        "    self.n_estimators = n_estimators\n",
        "    self.max_depth = max_depth\n",
        "    self.subspaces_dim = subspaces_dim\n",
        "    self.random_state = random_state\n",
        "    \"\"\"\n",
        "      Задайте все необходимые поля в рамках конструктора класса\n",
        "    \"\"\"\n",
        "\n",
        "  def fit(self, X, y):\n",
        "    self._estimators = []\n",
        "    for i in range(self.n_estimators):\n",
        "      \"\"\"\n",
        "        Напишите функцию обучения каждого из деревьев алгоритма на собственной подвыборке\n",
        "      \"\"\"\n",
        "      self.s = sample(X, self.subspaces_dim)\n",
        "      bootstrap_indices = self.s.bootstrap_sample(X)\n",
        "      X_sampled, y_sampled = self.s.get_subsample(X, y, self.s.idx_subspace, bootstrap_indices)\n",
        "      clf_tree = DecisionTreeClassifier(criterion=\"gini\", max_depth=self.max_depth, random_state=self.random_state)\n",
        "      clf_tree.fit(X_sampled, y_sampled)\n",
        "      self._estimators.append(clf_tree)\n",
        "      pass\n",
        "\n",
        "  def predict(self, X):\n",
        "    \"\"\"\n",
        "      Напишите функцию получения среднего предсказания алгоритма\n",
        "    \"\"\"\n",
        "    predictions = np.array([])\n",
        "    X_test = np.array([])\n",
        "    for elem in X:\n",
        "      for id in self.s.idx_subspace:\n",
        "        X_test = np.append(X_test, elem[id])\n",
        "    X_test = X_test.reshape((X.shape[0], len(self.s.idx_subspace)))\n",
        "\n",
        "    predictions = []\n",
        "    for estimator in self._estimators:\n",
        "        yp = estimator.predict(X_test)\n",
        "        predictions.append(yp.reshape(-1,1))\n",
        "\n",
        "    ypred = np.mean(np.concatenate(predictions,axis=1),axis=1)\n",
        "    return np.round(ypred).astype(int)"
      ],
      "metadata": {
        "id": "GLfTj8FHjvY2"
      },
      "execution_count": null,
      "outputs": []
    },
    {
      "cell_type": "markdown",
      "source": [
        "## Примечания\n",
        "\n",
        "1. В данной задаче запрещено использовать библиотеку pandas.\n",
        "\n",
        "2. В реализуемых методах запрещается использовать вывод любой информации на экран (в частности, недопустимо использование print())."
      ],
      "metadata": {
        "id": "cF8c0jlpLkaT"
      }
    },
    {
      "cell_type": "markdown",
      "source": [
        "# Пример входных и выходных данных"
      ],
      "metadata": {
        "id": "KkqH7nvl1Qcg"
      }
    },
    {
      "cell_type": "code",
      "source": [
        "import numpy as np\n",
        "X = np.array([[ 0.47819456, -1.57891216, -0.1018819 ,  1.11113501,  0.20826281,\n",
        "        -1.11091227,  0.07844205],\n",
        "       [ 0.11850997,  1.91073022,  0.95574903,  1.35798262,  0.56177995,\n",
        "         0.26012021,  0.42404407],\n",
        "       [-0.52304666,  0.75051167, -1.037804  , -0.10105312,  0.08559063,\n",
        "         0.5102743 , -1.79068927],\n",
        "       [-0.09078024,  1.62097709,  0.93284371,  1.0386902 , -0.68354252,\n",
        "        -1.27138661,  0.15060651],\n",
        "       [ 0.11676701, -0.71769062, -0.80119565,  0.73448495,  1.80728052,\n",
        "         0.45770337,  0.20689119]])"
      ],
      "metadata": {
        "id": "5ATBmJWL2dIO"
      },
      "execution_count": null,
      "outputs": []
    },
    {
      "cell_type": "code",
      "source": [
        "X.shape"
      ],
      "metadata": {
        "colab": {
          "base_uri": "https://localhost:8080/"
        },
        "id": "nGicDQ8412hz",
        "outputId": "990d88ad-a7fa-40f9-deb7-3a123d44ff57"
      },
      "execution_count": null,
      "outputs": [
        {
          "output_type": "execute_result",
          "data": {
            "text/plain": [
              "(5, 7)"
            ]
          },
          "metadata": {},
          "execution_count": 9
        }
      ]
    },
    {
      "cell_type": "code",
      "source": [
        "X.shape[1]"
      ],
      "metadata": {
        "colab": {
          "base_uri": "https://localhost:8080/"
        },
        "id": "bG7doLzcpAK4",
        "outputId": "3366b0e4-8150-46d2-bc3d-f33f7c908b21"
      },
      "execution_count": null,
      "outputs": [
        {
          "output_type": "execute_result",
          "data": {
            "text/plain": [
              "7"
            ]
          },
          "metadata": {},
          "execution_count": 6
        }
      ]
    },
    {
      "cell_type": "code",
      "source": [
        "y = np.array([1, 2, 3, 4, 5])"
      ],
      "metadata": {
        "id": "B42qCr0bzlLh"
      },
      "execution_count": null,
      "outputs": []
    },
    {
      "cell_type": "code",
      "source": [
        "y.shape"
      ],
      "metadata": {
        "colab": {
          "base_uri": "https://localhost:8080/"
        },
        "id": "LFNkZ3z3109w",
        "outputId": "d1c72c52-a91c-4e2f-c28d-96c32ca84975"
      },
      "execution_count": null,
      "outputs": [
        {
          "output_type": "execute_result",
          "data": {
            "text/plain": [
              "(5,)"
            ]
          },
          "metadata": {},
          "execution_count": 13
        }
      ]
    },
    {
      "cell_type": "code",
      "source": [
        "X_test = np.array([[ 0.47819456, -1.57891216, -0.1018819 ,  1.11113501,  0.20826281,\n",
        "        -1.11091227,  0.07844205],\n",
        "       [ 0.11850997,  1.91073022,  0.95574903,  1.35798262,  0.56177995,\n",
        "         0.26012021,  0.42404407],\n",
        "       [-0.52304666,  0.75051167, -1.037804  , -0.10105312,  0.08559063,\n",
        "         0.5102743 , -1.79068927],\n",
        "       [-0.09078024,  1.62097709,  0.93284371,  1.0386902 , -0.68354252,\n",
        "        -1.27138661,  0.15060651],\n",
        "       [ 0.11676701, -0.71769062, -0.80119565,  0.73448495,  1.80728052,\n",
        "         0.45770337,  0.20689119]])"
      ],
      "metadata": {
        "id": "1Ka8WS7W0Ag3"
      },
      "execution_count": null,
      "outputs": []
    },
    {
      "cell_type": "code",
      "source": [
        "preds = rf.predict(X_test)"
      ],
      "metadata": {
        "id": "Y_inb7-N2A4k"
      },
      "execution_count": null,
      "outputs": []
    },
    {
      "cell_type": "code",
      "source": [
        "preds"
      ],
      "metadata": {
        "colab": {
          "base_uri": "https://localhost:8080/"
        },
        "id": "VQydx8t92QKR",
        "outputId": "2087dcc2-3863-4caa-868b-2652fbd51666"
      },
      "execution_count": null,
      "outputs": [
        {
          "output_type": "execute_result",
          "data": {
            "text/plain": [
              "array([3., 5., 3., 3., 2.])"
            ]
          },
          "metadata": {},
          "execution_count": 65
        }
      ]
    },
    {
      "cell_type": "code",
      "source": [
        "import numpy as np\n",
        "import pandas as pd\n",
        "from sklearn import datasets\n",
        "from sklearn import linear_model\n",
        "from sklearn import metrics\n",
        "\n",
        "iris = datasets.load_iris()"
      ],
      "metadata": {
        "id": "Vw5-VTi2-mcj"
      },
      "execution_count": null,
      "outputs": []
    },
    {
      "cell_type": "code",
      "source": [
        "X_train = iris[\"data\"]\n",
        "#X_train"
      ],
      "metadata": {
        "id": "69etl9NX_Dla"
      },
      "execution_count": null,
      "outputs": []
    },
    {
      "cell_type": "code",
      "source": [
        "y_train = iris[\"target\"]\n",
        "#y_train"
      ],
      "metadata": {
        "id": "qJw3YvyZ_NHq"
      },
      "execution_count": null,
      "outputs": []
    },
    {
      "cell_type": "code",
      "source": [
        "from sklearn.model_selection import train_test_split\n",
        "X_train, x_test, y_train, y_test = train_test_split(\n",
        "    X_train, y_train, test_size=0.3, shuffle=True, random_state=42\n",
        ")"
      ],
      "metadata": {
        "id": "ST67Vuha_ebQ"
      },
      "execution_count": null,
      "outputs": []
    },
    {
      "cell_type": "code",
      "source": [
        "N_ESTIMATORS = 50\n",
        "MAX_DEPTH = 15\n",
        "SUBSPACE_DIM = 3"
      ],
      "metadata": {
        "id": "Efuu-HrUnXMX"
      },
      "execution_count": null,
      "outputs": []
    },
    {
      "cell_type": "code",
      "source": [
        "import numpy as np\n",
        "np.random.seed(42)\n",
        "\n",
        "from sklearn.tree import DecisionTreeClassifier\n",
        "\n",
        "N_ESTIMATORS = 50\n",
        "MAX_DEPTH = 15\n",
        "SUBSPACE_DIM = 3\n",
        "\n",
        "\n",
        "class sample(object):\n",
        "  def __init__(self, X, n_subspace):\n",
        "    self.idx_subspace = self.random_subspace(X, n_subspace)\n",
        "\n",
        "  def __call__(self, X, y):\n",
        "    idx_obj = self.bootstrap_sample(X)\n",
        "    X_sampled, y_sampled = self.get_subsample(X, y, self.idx_subspace, idx_obj)\n",
        "    return X_sampled, y_sampled\n",
        "\n",
        "  @staticmethod\n",
        "  def bootstrap_sample(X, random_state=42):\n",
        "    n = len(X)\n",
        "    return np.unique(np.random.choice(n, n, replace=True))\n",
        "\n",
        "  @staticmethod\n",
        "  def random_subspace(X, n_subspace, random_state=42):\n",
        "    return np.unique(np.random.choice(len(X[0]), n_subspace, replace=False))\n",
        "\n",
        "  @staticmethod\n",
        "  def get_subsample(X, y, idx_subspace, idx_obj):\n",
        "    X_sampled = []\n",
        "    for i in idx_obj:\n",
        "        X_sampled.append(np.array([X[i][j] for j in idx_subspace]))\n",
        "\n",
        "    y_sampled = [y[i] for i in idx_obj]\n",
        "    return np.array(X_sampled), y_sampled\n",
        "\n",
        "class random_forest(object):\n",
        "  def __init__(self, n_estimators: int=100, max_depth: int=15, subspaces_dim: int=3, random_state: int=42):\n",
        "    self.n_estimators = n_estimators\n",
        "    self.max_depth = max_depth\n",
        "    self.subspaces_dim = subspaces_dim\n",
        "    self.random_state = random_state\n",
        "    \"\"\"\n",
        "      Задайте все необходимые поля в рамках конструктора класса\n",
        "    \"\"\"\n",
        "\n",
        "  def fit(self, X, y):\n",
        "    self._estimators = []\n",
        "    self.idx_subspaces = []\n",
        "    for i in range(self.n_estimators):\n",
        "      \"\"\"\n",
        "        Напишите функцию обучения каждого из деревьев алгоритма на собственной подвыборке\n",
        "      \"\"\"\n",
        "      self.s = sample(X, self.subspaces_dim)\n",
        "      bootstrap_indices = self.s.bootstrap_sample(X)\n",
        "      X_sampled, y_sampled = self.s.get_subsample(X, y, self.s.idx_subspace, bootstrap_indices)\n",
        "      clf_tree = DecisionTreeClassifier(criterion=\"gini\", max_depth=self.max_depth, random_state=self.random_state)\n",
        "      clf_tree.fit(X_sampled, y_sampled)\n",
        "      self._estimators.append(clf_tree)\n",
        "      self.idx_subspaces.append(self.s.idx_subspace)\n",
        "      pass\n",
        "\n",
        "  def predict(self, X):\n",
        "    \"\"\"\n",
        "      Напишите функцию получения среднего предсказания алгоритма\n",
        "    \"\"\"\n",
        "    predictions = []\n",
        "    for i, estimator in enumerate(self._estimators):\n",
        "        idx = self.idx_subspaces[i]\n",
        "        X_test = []\n",
        "        for k in range(len(X)):\n",
        "            X_test.append(np.array([X[k][j] for j in idx]))\n",
        "        yp = estimator.predict(X_test)\n",
        "        predictions.append(yp.reshape(-1,1))\n",
        "    ypred = np.mean(np.concatenate(predictions,axis=1),axis=1)\n",
        "    return np.round(ypred).astype(int)"
      ],
      "metadata": {
        "id": "C2LU7iy5q_2f"
      },
      "execution_count": null,
      "outputs": []
    },
    {
      "cell_type": "code",
      "source": [
        "np.arange(1)"
      ],
      "metadata": {
        "id": "kJxoeYMSvh1a",
        "outputId": "38992ca7-bff8-41cb-cf8b-6717c08d7741",
        "colab": {
          "base_uri": "https://localhost:8080/"
        }
      },
      "execution_count": null,
      "outputs": [
        {
          "output_type": "execute_result",
          "data": {
            "text/plain": [
              "array([0])"
            ]
          },
          "metadata": {},
          "execution_count": 184
        }
      ]
    },
    {
      "cell_type": "code",
      "source": [
        "rf = random_forest(N_ESTIMATORS, MAX_DEPTH, SUBSPACE_DIM, 42)\n",
        "rf.fit(X_train, y_train)"
      ],
      "metadata": {
        "id": "zZbq51De_3as"
      },
      "execution_count": null,
      "outputs": []
    },
    {
      "cell_type": "code",
      "source": [
        "y_pred = rf.predict(x_test)"
      ],
      "metadata": {
        "id": "dVPaNbPg_9YU"
      },
      "execution_count": null,
      "outputs": []
    },
    {
      "cell_type": "code",
      "source": [
        "from sklearn.metrics import accuracy_score\n",
        "accuracy_score(y_pred, y_test)"
      ],
      "metadata": {
        "colab": {
          "base_uri": "https://localhost:8080/"
        },
        "id": "v7i1MdoPAUOM",
        "outputId": "0070a762-07a1-4c2b-9091-c64312c91910"
      },
      "execution_count": null,
      "outputs": [
        {
          "output_type": "execute_result",
          "data": {
            "text/plain": [
              "1.0"
            ]
          },
          "metadata": {},
          "execution_count": 12
        }
      ]
    },
    {
      "cell_type": "code",
      "source": [],
      "metadata": {
        "id": "UdL8lOIGnbNq"
      },
      "execution_count": null,
      "outputs": []
    }
  ]
}